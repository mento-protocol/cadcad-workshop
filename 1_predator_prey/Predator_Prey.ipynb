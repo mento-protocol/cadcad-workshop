{
 "cells": [
  {
   "cell_type": "markdown",
   "metadata": {
    "pycharm": {
     "name": "#%% md\n"
    }
   },
   "source": [
    "## Predator Prey Systems Dynamics modelling\n",
    "\n",
    "### Dynamical System: Lotka-Volterra\n",
    "\n",
    "This is the standard introductory model for Prey-Predator interactions and dynamical systems in general. It is based on the following equations:\n",
    "\n",
    "\\begin{aligned}{\\frac {d}{dt}Pokemon}&=\\alpha * Pokemon-\\beta * Pokemon * Trainers -\\epsilon * Pokemon,\\\\{\\frac {d}{dt}Trainers}&=\\delta * Pokemon * Trainers-\\gamma * Trainers,\\end{aligned}\n",
    "\n",
    "\n",
    "𝛼 = pokemon reproduction rate\n",
    "\n",
    "𝛽 = pokemon capture rate\n",
    "\n",
    "ε = pokemon death rate\n",
    "\n",
    "𝛿 = trainer growth rate \n",
    "\n",
    "𝛾 = trainer abandon rate\n",
    "\n",
    "Where $\\alpha$ and $\\gamma$  are the prey growth rate and predator elimination rate, and $\\delta$ and $\\gamma$ are interaction factors between preys and predators.\n",
    "\n",
    "The most prominent feature of it is the existence, depending on the choice of parameters, of a repeteable cycle around a fixed point which creates a dynamical equilibrium between the number of preys and predators on a system.\n",
    "\n",
    "In this simulation, we don't have any variability, we are running it with no monte carlo runs. We are running with 1,000 timesteps."
   ]
  },
  {
   "cell_type": "code",
   "execution_count": 1,
   "metadata": {
    "pycharm": {
     "name": "#%%\n"
    }
   },
   "outputs": [],
   "source": [
    "# Dependences\n",
    "import pandas as pd\n",
    "import numpy as np\n",
    "\n",
    "# Experiments\n",
    "from model.experiment import experiment\n",
    "from model.run import run\n",
    "pd.options.display.float_format = '{:.2f}'.format\n",
    "\n",
    "%matplotlib inline\n",
    "\n",
    "# run the simulation\n",
    "df, errors = run(experiment)"
   ]
  },
  {
   "cell_type": "code",
   "execution_count": 2,
   "metadata": {
    "pycharm": {
     "name": "#%%\n"
    }
   },
   "outputs": [
    {
     "data": {
      "text/html": [
       "<div>\n",
       "<style scoped>\n",
       "    .dataframe tbody tr th:only-of-type {\n",
       "        vertical-align: middle;\n",
       "    }\n",
       "\n",
       "    .dataframe tbody tr th {\n",
       "        vertical-align: top;\n",
       "    }\n",
       "\n",
       "    .dataframe thead th {\n",
       "        text-align: right;\n",
       "    }\n",
       "</style>\n",
       "<table border=\"1\" class=\"dataframe\">\n",
       "  <thead>\n",
       "    <tr style=\"text-align: right;\">\n",
       "      <th></th>\n",
       "      <th>pokemon_population</th>\n",
       "      <th>trainer_population</th>\n",
       "      <th>simulation</th>\n",
       "      <th>subset</th>\n",
       "      <th>run</th>\n",
       "      <th>substep</th>\n",
       "      <th>timestep</th>\n",
       "    </tr>\n",
       "  </thead>\n",
       "  <tbody>\n",
       "    <tr>\n",
       "      <th>0</th>\n",
       "      <td>100.00</td>\n",
       "      <td>3000.00</td>\n",
       "      <td>0</td>\n",
       "      <td>0</td>\n",
       "      <td>1</td>\n",
       "      <td>0</td>\n",
       "      <td>0</td>\n",
       "    </tr>\n",
       "    <tr>\n",
       "      <th>1</th>\n",
       "      <td>71.00</td>\n",
       "      <td>2943.00</td>\n",
       "      <td>0</td>\n",
       "      <td>0</td>\n",
       "      <td>1</td>\n",
       "      <td>1</td>\n",
       "      <td>1</td>\n",
       "    </tr>\n",
       "    <tr>\n",
       "      <th>2</th>\n",
       "      <td>52.00</td>\n",
       "      <td>2887.00</td>\n",
       "      <td>0</td>\n",
       "      <td>0</td>\n",
       "      <td>1</td>\n",
       "      <td>1</td>\n",
       "      <td>2</td>\n",
       "    </tr>\n",
       "    <tr>\n",
       "      <th>3</th>\n",
       "      <td>38.00</td>\n",
       "      <td>2831.00</td>\n",
       "      <td>0</td>\n",
       "      <td>0</td>\n",
       "      <td>1</td>\n",
       "      <td>1</td>\n",
       "      <td>3</td>\n",
       "    </tr>\n",
       "    <tr>\n",
       "      <th>4</th>\n",
       "      <td>29.00</td>\n",
       "      <td>2776.00</td>\n",
       "      <td>0</td>\n",
       "      <td>0</td>\n",
       "      <td>1</td>\n",
       "      <td>1</td>\n",
       "      <td>4</td>\n",
       "    </tr>\n",
       "  </tbody>\n",
       "</table>\n",
       "</div>"
      ],
      "text/plain": [
       "   pokemon_population  trainer_population  simulation  subset  run  substep  \\\n",
       "0              100.00             3000.00           0       0    1        0   \n",
       "1               71.00             2943.00           0       0    1        1   \n",
       "2               52.00             2887.00           0       0    1        1   \n",
       "3               38.00             2831.00           0       0    1        1   \n",
       "4               29.00             2776.00           0       0    1        1   \n",
       "\n",
       "   timestep  \n",
       "0         0  \n",
       "1         1  \n",
       "2         2  \n",
       "3         3  \n",
       "4         4  "
      ]
     },
     "execution_count": 2,
     "metadata": {},
     "output_type": "execute_result"
    }
   ],
   "source": [
    "df.head()"
   ]
  },
  {
   "cell_type": "code",
   "execution_count": 3,
   "metadata": {
    "pycharm": {
     "name": "#%%\n"
    }
   },
   "outputs": [],
   "source": [
    "# plot the data"
   ]
  },
  {
   "cell_type": "code",
   "execution_count": 4,
   "metadata": {
    "pycharm": {
     "name": "#%%\n"
    }
   },
   "outputs": [
    {
     "data": {
      "text/plain": [
       "<AxesSubplot:title={'center':'Pokemon-Trainer populations over time'}, xlabel='timestep'>"
      ]
     },
     "execution_count": 4,
     "metadata": {},
     "output_type": "execute_result"
    },
    {
     "data": {
      "image/png": "[encoded data removed]",
      "text/plain": [
       "<Figure size 1080x720 with 1 Axes>"
      ]
     },
     "metadata": {
      "needs_background": "light"
     },
     "output_type": "display_data"
    }
   ],
   "source": [
    "df[df[\"subset\"] == 0].plot(x='timestep',y=['pokemon_population','trainer_population'],title='Pokemon-Trainer populations over time',\n",
    "       figsize =(15,10))\n",
    "# df[df[\"subset\"] == 1].plot(x='timestep',y=['pokemon_population','trainer_population'],title='Poemon-Trainer populations over time',\n",
    "# figsize =(15,10))"
   ]
  },
  {
   "cell_type": "markdown",
   "metadata": {
    "pycharm": {
     "name": "#%% md\n"
    }
   },
   "source": [
    "We can see that when prey increases, predators increase shortly after, and after prey decreases, prey decreases, illustrating the cyclical nature of the predator prey dynamical system. "
   ]
  }
 ],
 "metadata": {
  "kernelspec": {
   "display_name": "Python 3 (ipykernel)",
   "language": "python",
   "name": "python3"
  },
  "language_info": {
   "codemirror_mode": {
    "name": "ipython",
    "version": 3
   },
   "file_extension": ".py",
   "mimetype": "text/x-python",
   "name": "python",
   "nbconvert_exporter": "python",
   "pygments_lexer": "ipython3",
   "version": "3.8.9"
  },
  "vscode": {
   "interpreter": {
    "hash": "680871842c4d6c65cdbdc916c78a8cc58f7cc6c2702346f2132d732aecfded99"
   }
  }
 },
 "nbformat": 4,
 "nbformat_minor": 4
}
