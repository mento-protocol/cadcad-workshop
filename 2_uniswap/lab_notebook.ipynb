{
 "cells": [
  {
   "cell_type": "markdown",
   "metadata": {},
   "source": [
    "# Uniswap Demo"
   ]
  },
  {
   "cell_type": "markdown",
   "metadata": {},
   "source": [
    "## Introduction to Uniswap\n",
    "\n",
    ">\"Uniswap is an automated market maker for exchanging ERC20 tokens. Anyone can become a liquidity provider, and invest in the liquidity pool of an ERC20 token. This allows other users to trade that token for other tokens at an exchange rate based on their relative availibility. When a token trade is executed, a small fee is paid to the liquidity providers that enabled the transaction.\""
   ]
  },
  {
   "cell_type": "markdown",
   "metadata": {},
   "source": [
    "## Model File structure\n",
    "* lab_notebook.ipynb\n",
    "* model\n",
    "\n",
    "There are a parts folder and 4 files in model folder: [config.py](model/config.py), which contains the simulation configurations, aggregating the partial states and the state variables; [partial_state_update_block.py](model/partial_state_update_block.py), which contains the partial state update blocks and how they update the state variables; [state_variables.py](state_variables.py), which defines the model's state variables and [run.py](model/run.py), which runs the simulation.\n",
    "\n",
    "The components of the model are found in the parts subfolder as:\n",
    "\n",
    "* [system.py](model/parts/system.py)\n",
    "* [utils.py](model/parts/utils.py)\n",
    "* [uniswap_events.pickle](https://www.kaggle.com/markusbkoch/uniswap-ethdai-exchange)\n",
    "\n",
    "The initial parameters and hyperparameters of the system are defined in [sys_params.py](model/sys_params.py) and helper functions, plots, etc. are in [utils.py](model/parts/utils.py)."
   ]
  },
  {
   "cell_type": "markdown",
   "metadata": {},
   "source": [
    "## Run Model"
   ]
  },
  {
   "cell_type": "code",
   "execution_count": 11,
   "metadata": {},
   "outputs": [
    {
     "data": {
      "text/markdown": [
       "# 19/Jul/2022 14:30"
      ],
      "text/plain": [
       "<IPython.core.display.Markdown object>"
      ]
     },
     "metadata": {},
     "output_type": "display_data"
    }
   ],
   "source": [
    "from IPython.display import display, Markdown\n",
    "from datetime import datetime\n",
    "cur_datetime = datetime.now()\n",
    "display(Markdown(f'# {cur_datetime.strftime(\"%d/%b/%Y %H:%M\")}'))## Model File structure"
   ]
  },
  {
   "cell_type": "code",
   "execution_count": 12,
   "metadata": {},
   "outputs": [],
   "source": [
    "%%capture\n",
    "# %matplotlib inline\n",
    "\n",
    "# Dependences\n",
    "from time import time\n",
    "import matplotlib.pyplot as plt\n",
    "# import seaborn as sns\n",
    "import pandas as pd\n",
    "import numpy as np\n",
    "\n",
    "# Experiments\n",
    "from model.run import run\n",
    "from model.data import UNISWAP_EVENTS\n",
    "from model.state_variables import initial_state\n",
    "from model.system_parameters import params, SystemParameters\n",
    "from model.experiment import experiment"
   ]
  },
  {
   "cell_type": "code",
   "execution_count": 13,
   "metadata": {
    "scrolled": true
   },
   "outputs": [],
   "source": [
    "# Run all experiments. Typical run duration for an Core-i3 laptop is about 2-3min.\n",
    "# Tweak the prey_predator_abm/sim_params.py file if you want it to take longer (or not).\n",
    "experiments, _ = run(experiment)"
   ]
  },
  {
   "cell_type": "code",
   "execution_count": null,
   "metadata": {},
   "outputs": [],
   "source": [
    "fees = [(1-(param/1000))*100 for param in params['fee_numerator']]\n",
    "# retail_tols = [param*100 for param in params['retail_tolerance']]\n",
    "# retail_precision = [param for param in params['retail_precision']]"
   ]
  },
  {
   "cell_type": "code",
   "execution_count": null,
   "metadata": {},
   "outputs": [],
   "source": [
    "experiments[0:390]"
   ]
  },
  {
   "cell_type": "markdown",
   "metadata": {},
   "source": [
    "## Analysis\n",
    "\n",
    "For information on how to access and analysis data from the ETH/DAI Uniswap smart contract, visit our sister notebook [here](Uniswap_EthDai_Exchange_Data.ipynb).\n",
    "\n",
    "\n",
    "In this section, we will analyze how well our model compares to the actual data."
   ]
  },
  {
   "cell_type": "code",
   "execution_count": null,
   "metadata": {},
   "outputs": [],
   "source": [
    "model_history = experiments[['dai_balance', 'eth_balance', 'lp_token_supply']]\n",
    "model_history.columns = ['model_dai_balance', 'model_eth_balance', 'model_lp_token_supply']"
   ]
  },
  {
   "cell_type": "code",
   "execution_count": null,
   "metadata": {},
   "outputs": [],
   "source": [
    "UNI_df = pd.read_pickle('./data/uniswap_events.pickle')\n",
    "real_history = UNI_df.iloc[1:][['token_balance','eth_balance','UNI_supply']].reset_index(drop=True)\n",
    "real_history.columns = ['real_dai_balance', 'real_eth_balance', 'real_lp_token_supply']"
   ]
  },
  {
   "cell_type": "code",
   "execution_count": null,
   "metadata": {},
   "outputs": [],
   "source": [
    "models = list()\n",
    "for i in experiments['subset'].unique():\n",
    "    models.append(experiments.loc[experiments['subset']==i,['dai_balance', 'eth_balance', 'lp_token_supply']])\n",
    "    \n",
    "for df in models:\n",
    "    df.columns = ['model_dai_balance', 'model_eth_balance', 'model_lp_token_supply']\n",
    "    df.reset_index(inplace=True)\n",
    "\n",
    "\n",
    "nplots = len(set(fees))\n",
    "ncols = 3\n",
    "\n",
    "fig, axs = plt.subplots(ncols = ncols, nrows = 1, figsize=(20,10))\n",
    "\n",
    "plt.close()\n",
    "\n",
    "axs[0].plot(real_history['real_eth_balance'], label='Real history')\n",
    "axs[1].plot(real_history['real_dai_balance'], label='Real history')\n",
    "axs[2].plot(real_history['real_lp_token_supply'], label='Real history')\n",
    "axs[0].set_title('Model ETH balance', fontsize=18)\n",
    "axs[1].set_title('Model DAI balance', fontsize=18)\n",
    "axs[2].set_title('Model LP Token supply', fontsize=18)\n",
    "# axs[i][0].set_ylabel('conv_tolerance = {:.1f} %'.format(retail_tols[i]), fontsize=18)\n",
    "\n",
    "for k in range(nplots):\n",
    "    axs[0].plot(models[k]['model_eth_balance'],\n",
    "                    label='Fee @ {:.1f}%'.format(fees[k]))\n",
    "    axs[1].plot(models[k]['model_dai_balance'],\n",
    "                    label='Fee @ {:.1f}%'.format(fees[k]))\n",
    "    axs[2].plot(models[k]['model_lp_token_supply'],\n",
    "                   label='Fee @ {:.1f}%'.format(fees[k]))\n",
    "\n",
    "for j in range(ncols):\n",
    "    axs[j].legend(loc='upper left')\n",
    "\n",
    "fig.tight_layout(pad=4.0)\n",
    "fig"
   ]
  },
  {
   "cell_type": "markdown",
   "metadata": {},
   "source": [
    "Despite the simplifications, the outputs of the model are very similar to real data."
   ]
  },
  {
   "cell_type": "code",
   "execution_count": null,
   "metadata": {},
   "outputs": [],
   "source": [
    "df = experiments\n",
    "\n",
    "prev_dai = pd.Series([np.nan]).append(df['dai_balance'][:-1]).reset_index(drop=True)\n",
    "prev_eth = pd.Series([np.nan]).append(df['eth_balance'][:-1]).reset_index(drop=True)\n",
    "df['delta_dai'] = df['dai_balance'].diff()\n",
    "df['delta_eth'] = df['eth_balance'].diff()\n",
    "df['istrade'] = (df['delta_dai'] > 0) != (df['delta_eth'] > 0)\n",
    "df['volume'] = abs(df[df['istrade']]['delta_dai'])\n",
    "df['volume'] = df['volume'].fillna(0)\n",
    "df = df.drop(columns=['delta_dai','delta_eth','istrade'])"
   ]
  },
  {
   "cell_type": "markdown",
   "metadata": {},
   "source": [
    "The success of Uniswap is directly associated to how much liquidity is being provided to the model. However, modelling the liquidity provider agent is a difficult task, as its decision making process tends to be very complex. Therefore, analyzing how much return a liquidity provider would have in Uniswap can be a more effective strategy, since higher returns mean more attractiveness for liquidity providers. To understand how a fee modification impacts the returns of the liquidity provider, we will use the following script:"
   ]
  },
  {
   "cell_type": "code",
   "execution_count": null,
   "metadata": {},
   "outputs": [],
   "source": [
    "def ExpMovingAverage(values, window):\n",
    "        weights = np.exp(np.linspace(-1., 0., window))\n",
    "        weights /= weights.sum()\n",
    "        a =  np.convolve(values, weights, mode='full')[:len(values)]\n",
    "        a[:window] = a[window]\n",
    "        return a\n",
    "\n",
    "plot_data = experiments.copy()\n",
    "plot_data = plot_data[plot_data['eth_balance'] > 0]\n",
    "plot_data = plot_data[plot_data['dai_balance'] > 0]\n",
    "plot_data = plot_data[plot_data['lp_token_supply'] > 0]\n",
    "print(len(plot_data))\n",
    "plot_data[plot_data['eth_balance'] > 0][['dai_balance',\n",
    "           'eth_balance',\n",
    "           'lp_token_supply',\n",
    "           'volume']] = plot_data[['dai_balance',\n",
    "                                   'eth_balance',\n",
    "                                   'lp_token_supply',\n",
    "                                   'volume']]*1E-18\n",
    "plot_data['eth_price_dai'] = plot_data['dai_balance'].divide(plot_data['eth_balance'])\n",
    "plot_data['lp_token_price_dai'] = 2 * plot_data['dai_balance'].divide(plot_data['lp_token_supply'])\n",
    "\n",
    "a = 0.5 * plot_data['eth_price_dai'][4] + 0.5 * plot_data['eth_price_dai']\n",
    "plot_data['50_50_hodler_value'] = a.values\n",
    "\n",
    "a = plot_data['50_50_hodler_value'].divide(plot_data['50_50_hodler_value'][4]) - 1\n",
    "plot_data['50_50_hodler_return'] = a.values\n",
    "\n",
    "a = plot_data['lp_token_price_dai'].divide(plot_data['lp_token_price_dai'][4]) - 1\n",
    "plot_data['UNI_hodler_return'] = a.values\n",
    "\n",
    "a = plot_data['eth_price_dai'].divide(plot_data['eth_price_dai'][4]) - 1\n",
    "plot_data['ETH_hodler_return'] = a.values\n",
    "\n",
    "plots = list()\n",
    "\n",
    "for i in plot_data['subset'].unique():\n",
    "    plots.append(plot_data[plot_data['subset'] == i])\n",
    "for df in plots:\n",
    "    df.reset_index(inplace=True)"
   ]
  },
  {
   "cell_type": "code",
   "execution_count": null,
   "metadata": {
    "scrolled": false
   },
   "outputs": [],
   "source": [
    "from IPython.display import HTML\n",
    "from matplotlib import animation, rc\n",
    "rc('animation', html='jshtml', embed_limit=50)\n",
    "plt.rcParams['figure.facecolor'] = 'white'\n",
    "from matplotlib import cm\n",
    "import matplotlib.ticker as ticker\n",
    "\n",
    "nplots = len(set(fees))\n",
    "nrows = 1# len(set([]))\n",
    "ncols = 1# len(set([]))\n",
    "\n",
    "fig, axs = plt.subplots(ncols = ncols, nrows = nrows, figsize=(ncols*10,nrows*5))\n",
    "\n",
    "plt.close()\n",
    "\n",
    "axs.plot(plots[0]['50_50_hodler_return'], label=f'50/50 hodler')\n",
    "axs.plot(plots[0]['ETH_hodler_return'], label=f'ETH hodler')\n",
    "axs.axhline(0, color='gainsboro')\n",
    "axs.set_ylabel('ROI')\n",
    "for k in range(nplots):\n",
    "    ema = ExpMovingAverage(plots[k]['UNI_hodler_return'], 1)\n",
    "    axs.plot(ema, label='Liq. Provider with fee @ {:.1f} %'.format(fees[k]))\n",
    "\n",
    "axs.legend(loc='upper left')\n",
    "\n",
    "fig.set_facecolor('white')\n",
    "fig.tight_layout(pad=4.0)\n",
    "fig"
   ]
  },
  {
   "cell_type": "markdown",
   "metadata": {},
   "source": [
    "## Conclusion\n",
    "\n",
    "In this notebook, we have illustrated how to create a cadCAD model that takes in real data and replicates the mechanics of a real world smart contract extremely acurately by translating the smart contract code into python code. We enforce best practices for cadCAD modeling, and analyze our simulation data against the real data.\n",
    "\n",
    "As future work proposals, we see that the liquidity provider behavior can be better explored and its return can be analyzed further. A good way to do that is to represent the retail tolerance parameter as a probability distribution. In this way, Monte Carlo runs can be used to create stochastic analysis.\n",
    "\n",
    "Besides that, when usingt he arbitrage trader profit function, the model shows results that differ from Uniswap historical data. Because of that, this behavior wasn't taken into account for the return results shown before, and further analyses on this agent's behavior might help to increase its accuracy."
   ]
  }
 ],
 "metadata": {
  "kernelspec": {
   "display_name": "Python 3 (ipykernel)",
   "language": "python",
   "name": "python3"
  },
  "language_info": {
   "codemirror_mode": {
    "name": "ipython",
    "version": 3
   },
   "file_extension": ".py",
   "mimetype": "text/x-python",
   "name": "python",
   "nbconvert_exporter": "python",
   "pygments_lexer": "ipython3",
   "version": "3.8.9"
  },
  "vscode": {
   "interpreter": {
    "hash": "680871842c4d6c65cdbdc916c78a8cc58f7cc6c2702346f2132d732aecfded99"
   }
  }
 },
 "nbformat": 4,
 "nbformat_minor": 4
}
